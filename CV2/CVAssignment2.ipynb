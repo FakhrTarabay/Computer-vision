{
 "cells": [
  {
   "cell_type": "code",
   "execution_count": 9,
   "id": "a3428b76",
   "metadata": {},
   "outputs": [],
   "source": [
    "import numpy as np\n",
    "from PIL import Image\n",
    "from matplotlib import pyplot as plt"
   ]
  },
  {
   "cell_type": "code",
   "execution_count": 10,
   "id": "eed77cc0",
   "metadata": {},
   "outputs": [],
   "source": [
    "img1 = Image.open(\"f2.png\")\n",
    "img2 = Image.open(\"f3.jpg\")\n",
    "img3 = Image.open(\"f6.jpg\")\n",
    "Img1arr = np.array(Image.open(\"f2.png\").convert('L'), dtype='int64')\n",
    "Img2arr = np.array(Image.open(\"f3.jpg\").convert('L'), dtype='int64')\n",
    "Img3arr = np.array(Image.open(\"f6.jpg\").convert('L'), dtype='int64')"
   ]
  },
  {
   "cell_type": "code",
   "execution_count": 11,
   "id": "6248d9de",
   "metadata": {},
   "outputs": [],
   "source": [
    "def CalculateIntegral(arr):\n",
    "    res = np.array(arr,copy=True) \n",
    "    rows, cols = arr.shape\n",
    "    for i in range (rows):\n",
    "        for j in range (cols):\n",
    "            if(j==0):\n",
    "                continue\n",
    "            res[i][j] = res[i][j] + res[i][j-1]\n",
    "    for i in range (0,rows):\n",
    "            if(i==0):\n",
    "                continue\n",
    "            res[i] = res[i] + res[i-1]\n",
    "    return res"
   ]
  },
  {
   "cell_type": "code",
   "execution_count": 12,
   "id": "0afd59a2",
   "metadata": {},
   "outputs": [],
   "source": [
    "def CalculateLocalSum(arr,p1,p2):\n",
    "    x0 = int(p1[0])\n",
    "    y0 = int(p1[1])\n",
    "    x1 = int(p2[0])\n",
    "    y1 = int(p2[1])\n",
    "    sum = arr[x1-1][y1-1]\n",
    "    if(x0 > 0 and y0 <= 0):\n",
    "        sum = sum - arr[x0-1][y1-1]\n",
    "    elif(y0 > 0 and x0 <= 0):\n",
    "        sum = sum - arr[x1-1][y0-1]\n",
    "    elif (x0 <= 0 and y0 <= 0):\n",
    "        sum = sum\n",
    "    else:\n",
    "        sum = sum - arr[x0-1][y1-1] - arr[x1-1][y0-1] + arr[x0-1][y0-1]\n",
    "    return sum"
   ]
  },
  {
   "cell_type": "code",
   "execution_count": 13,
   "id": "1c645667",
   "metadata": {},
   "outputs": [],
   "source": [
    "def DetectEye(integral,width):\n",
    "    w = width\n",
    "    h = 0.15*w\n",
    "    p1 = np.array([-0.5*h,-0.5*w])+[(0.5*h),(0.5*w)]\n",
    "    p2 = np.array([0,-0.05*w])+[(0.5*h),(0.5*w)]\n",
    "    p3 = np.array([0,-0.5*w])+[(0.5*h),(0.5*w)]\n",
    "    p4 = np.array([0.5*h,-0.05*w])+[(0.5*h),(0.5*w)]\n",
    "    p5 = np.array([-0.5*h,0.05*w])+[(0.5*h),(0.5*w)]\n",
    "    p6 = np.array([0,0.5*w])+[(0.5*h),(0.5*w)]\n",
    "    p7 = np.array([0,0.05*w])+[(0.5*h),(0.5*w)]\n",
    "    p8 = np.array([0.5*h,0.5*w])+[(0.5*h),(0.5*w)]\n",
    "    p9 = np.array([0.833*h,-0.325*w])+[(0.5*h),(0.5*w)]\n",
    "    p10 = np.array([2*h,-0.225*w])+[(0.5*h),(0.5*w)]\n",
    "    p11 = np.array([0.833*h,-0.1*w])+[(0.5*h),(0.5*w)]\n",
    "    p12 = np.array([2*h,0.1*w])+[(0.5*h),(0.5*w)]\n",
    "    p13 = np.array([0.833*h,0.225*w])+[(0.5*h),(0.5*w)]\n",
    "    p14 = np.array([2*h,0.325*w])+[(0.5*h),(0.5*w)]\n",
    "    rows,cols = integral.shape\n",
    "    Max = 0 \n",
    "    Sum = 0\n",
    "    x = () \n",
    "    arr = integral\n",
    "    for i in range(int(rows-p14[0])-1):\n",
    "        for j in range(int(cols-p8[1])-1):\n",
    "            sum1 = CalculateLocalSum(arr,p1+[i,j],p2+[i,j])\n",
    "            sum2 = CalculateLocalSum(arr,p3+[i,j],p4+[i,j])\n",
    "            sum3 = CalculateLocalSum(arr,p5+[i,j],p6+[i,j])\n",
    "            sum4 = CalculateLocalSum(arr,p7+[i,j],p8+[i,j])\n",
    "            sum5 = CalculateLocalSum(arr,p9+[i,j],p10+[i,j])\n",
    "            sum6 = CalculateLocalSum(arr,p11+[i,j],p12+[i,j])\n",
    "            sum7 = CalculateLocalSum(arr,p13+[i,j],p14+[i,j])\n",
    "            Sum = sum1+(sum2*(-1))+sum3+(sum4*(-1))+(sum5*(-1))+sum6+(sum7*(-1))\n",
    "            if Sum > Max:\n",
    "                Max = Sum\n",
    "                x = (i,j)\n",
    "    return x\n",
    "    "
   ]
  },
  {
   "cell_type": "code",
   "execution_count": 36,
   "id": "43297902",
   "metadata": {},
   "outputs": [],
   "source": [
    "def ExtractDetectedEye(img,pos,width):\n",
    "    w = width\n",
    "    h = 0.15*w\n",
    "    p1 = np.array([-0.5*h,-0.5*w])+[(0.5*h),(0.5*w)]\n",
    "    p8 = np.array([0.5*h,0.5*w])+[(0.5*h),(0.5*w)]\n",
    "    p14 = np.array([2*h,0.325*w])+[(0.5*h),(0.5*w)]\n",
    "    p8 = p8+[pos[0],pos[1]]\n",
    "    p14 = p14+[pos[0],pos[1]]\n",
    "    \n",
    "    nump = np.array(img)\n",
    "    rows, cols = (nump.shape[0], nump.shape[1])\n",
    "    arr = [[0 for i in range(cols)] for j in range(rows)]\n",
    "    for i in range(int(pos[0]),int(p14[0])):\n",
    "        for j in range(int(pos[1]),int(p8[1])):\n",
    "            arr[i][j] = nump[i][j]\n",
    "            \n",
    "    return arr"
   ]
  },
  {
   "cell_type": "markdown",
   "id": "d1235956",
   "metadata": {},
   "source": [
    "## Detecting the eye in the first image (\"f2.png\") :"
   ]
  },
  {
   "cell_type": "code",
   "execution_count": 44,
   "id": "f88bbdb5",
   "metadata": {},
   "outputs": [
    {
     "data": {
      "image/png": "[encoded data removed]",
      "text/plain": [
       "<Figure size 432x288 with 1 Axes>"
      ]
     },
     "metadata": {
      "needs_background": "light"
     },
     "output_type": "display_data"
    }
   ],
   "source": [
    "arr = CalculateIntegral(Img1arr)\n",
    "x = DetectEye(arr,330)\n",
    "First_Image = Image.open(\"f2.png\").convert('L')\n",
    "img = ExtractDetectedEye(First_Image,x,330)\n",
    "\n",
    "#Plotting\n",
    "plt.imshow(img, cmap = 'gray')\n",
    "\n",
    "#Saving Output\n",
    "plt.savefig(\"First_Image.jpg\")"
   ]
  },
  {
   "cell_type": "markdown",
   "id": "843863cd",
   "metadata": {},
   "source": [
    "## Detecting the eye in the second image (\"f3.jpg\") :"
   ]
  },
  {
   "cell_type": "code",
   "execution_count": 45,
   "id": "835a56c2",
   "metadata": {},
   "outputs": [
    {
     "data": {
      "image/png": "[encoded data removed]",
      "text/plain": [
       "<Figure size 432x288 with 1 Axes>"
      ]
     },
     "metadata": {
      "needs_background": "light"
     },
     "output_type": "display_data"
    }
   ],
   "source": [
    "arr = CalculateIntegral(Img2arr)\n",
    "x = DetectEye(arr,250)\n",
    "Second_Image = Image.open(\"f3.jpg\").convert('L')\n",
    "img = ExtractDetectedEye(Second_Image,x,250)\n",
    "\n",
    "#Plotting\n",
    "plt.imshow(img, cmap = 'gray')\n",
    "\n",
    "#Saving Output\n",
    "plt.savefig(\"Second_Image.jpg\")"
   ]
  },
  {
   "cell_type": "markdown",
   "id": "0f43e4b1",
   "metadata": {},
   "source": [
    "## Detecting the eye in the third image (\"f6.jpg\") :"
   ]
  },
  {
   "cell_type": "code",
   "execution_count": 46,
   "id": "c4f26f66",
   "metadata": {},
   "outputs": [
    {
     "data": {
      "image/png": "[encoded data removed]",
      "text/plain": [
       "<Figure size 432x288 with 1 Axes>"
      ]
     },
     "metadata": {
      "needs_background": "light"
     },
     "output_type": "display_data"
    }
   ],
   "source": [
    "arr = CalculateIntegral(Img3arr)\n",
    "x = DetectEye(arr,150)\n",
    "Third_Image = Image.open(\"f6.jpg\").convert('L')\n",
    "img = ExtractDetectedEye(Third_Image,x,150)\n",
    "\n",
    "#Plotting\n",
    "plt.imshow(img, cmap = 'gray')\n",
    "\n",
    "#Saving Output\n",
    "plt.savefig(\"Third_Image.jpg\")"
   ]
  }
 ],
 "metadata": {
  "kernelspec": {
   "display_name": "Python 3",
   "language": "python",
   "name": "python3"
  },
  "language_info": {
   "codemirror_mode": {
    "name": "ipython",
    "version": 3
   },
   "file_extension": ".py",
   "mimetype": "text/x-python",
   "name": "python",
   "nbconvert_exporter": "python",
   "pygments_lexer": "ipython3",
   "version": "3.8.8"
  }
 },
 "nbformat": 4,
 "nbformat_minor": 5
}
